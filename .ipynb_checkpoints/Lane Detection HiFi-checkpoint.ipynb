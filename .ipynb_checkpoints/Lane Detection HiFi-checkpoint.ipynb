{
 "cells": [
  {
   "cell_type": "code",
   "execution_count": 4,
   "metadata": {
    "collapsed": true
   },
   "outputs": [],
   "source": [
    "# Import needed libraries\n",
    "import pickle\n",
    "import cv2\n",
    "import os\n",
    "import numpy as np\n",
    "import matplotlib.pyplot as plt\n",
    "import matplotlib.image as mpimg\n"
   ]
  },
  {
   "cell_type": "code",
   "execution_count": 6,
   "metadata": {},
   "outputs": [],
   "source": [
    "# Begin Pipeline\n",
    "\n",
    "# Read in Images\n",
    "os.chdir('C:\\\\Users\\\\drose\\\\Google Drive\\\\mooc\\\\Udacity\\\\sdc\\\\p4\\\\highway-lane-tracking')    \n",
    "import glob\n",
    "cal_images = []\n",
    "for img in glob.glob(\"media/camera_cal\\\\*.jpg\"):\n",
    "    n = cv2.imread(img)\n",
    "    cal_images.append(n)\n",
    "\n",
    "# Camera Calibration\n",
    "gray = cv2.cvtColor(cal_images[0], )\n",
    "\n",
    "# Distortion Correction\n",
    "\n",
    "\n",
    "# Color/Gradient Threshold\n",
    "# Canary, x/y, HSL conversion\n",
    "\n",
    "# Perspective Transform\n",
    "# Birds Eye View\n",
    "\n",
    "# Begin Lane Line Detection\n",
    "\n",
    "# Determine Lane Curvature\n"
   ]
  }
 ],
 "metadata": {
  "kernelspec": {
   "display_name": "Python 3",
   "language": "python",
   "name": "python3"
  },
  "language_info": {
   "codemirror_mode": {
    "name": "ipython",
    "version": 3
   },
   "file_extension": ".py",
   "mimetype": "text/x-python",
   "name": "python",
   "nbconvert_exporter": "python",
   "pygments_lexer": "ipython3",
   "version": "3.5.3"
  }
 },
 "nbformat": 4,
 "nbformat_minor": 2
}
